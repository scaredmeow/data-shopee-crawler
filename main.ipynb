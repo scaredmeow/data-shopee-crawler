{
 "cells": [
  {
   "cell_type": "markdown",
   "metadata": {},
   "source": [
    "## Loading Libraries and Data"
   ]
  },
  {
   "cell_type": "code",
   "execution_count": 1,
   "metadata": {},
   "outputs": [],
   "source": [
    "import pandas as pd\n",
    "import os\n",
    "import dask.dataframe as dd\n",
    "import numpy as np"
   ]
  },
  {
   "cell_type": "markdown",
   "metadata": {},
   "source": [
    "### Downloading Data from Shopee API"
   ]
  },
  {
   "cell_type": "code",
   "execution_count": 2,
   "metadata": {},
   "outputs": [
    {
     "data": {
      "text/plain": [
       "['https://shopee.ph/Trendy-Fashionable-Cotton-Jogger-Pants-For-Men-5-Colors-Good-Quality-JF09-i.78369718.5541866137?sp_atk=df76d618-dc6f-4d5a-ab0e-ee28e5c4b295&xptdk=df76d618-dc6f-4d5a-ab0e-ee28e5c4b295',\n",
       " 'https://shopee.ph/%E2%9C%A8In-Stock!%E2%9C%A8AIXINI-26-PCS-Alphabet-Plush-Toy-Alphabets-Alphabet-Lore-Stuffed-Doll-Preschool-Educational-English-ABC-Letter-Toy-for-Kids-Children-A-Z-i.190409750.18956258616?sp_atk=2a2ff182-d854-41a6-9f34-4282de4ebf5d&xptdk=2a2ff182-d854-41a6-9f34-4282de4ebf5d',\n",
       " 'https://shopee.ph/Siv-60-130-Cm-Safety-Gate-Fence-Guard-For-Baby-Child-Stairs-Dogs-Pets-i.165194842.8925151854?sp_atk=971cc1ad-3304-4b03-8690-db351546bc34&xptdk=971cc1ad-3304-4b03-8690-db351546bc34',\n",
       " 'https://shopee.ph/Soccer-Ball-Football-Ball-F5V3400-Vantaggio-Series-Football-Size-5-with-32-Panels-and-PU-Leather-i.683474321.21020871259?sp_atk=19828d67-06d5-48a5-8171-027d211d0e49&xptdk=19828d67-06d5-48a5-8171-027d211d0e49',\n",
       " 'https://shopee.ph/A51-COD-Kitchen-Cabinet-Rack-Organizer-(retractable)-Shelf-Under-The-Sink-Cabinet-Divider-i.489229830.11933518948?sp_atk=d8e8981a-3af4-4dcd-9c0d-c1d452bb847a&xptdk=d8e8981a-3af4-4dcd-9c0d-c1d452bb847a',\n",
       " 'https://shopee.ph/TBK-Birth-Flower-Collection-18k-Gold-Pendant-Necklace-Accessories-Jewelry-for-Women-803N-i.495764052.10876674275?sp_atk=242728a0-cd84-4747-9651-84baf13c12bc&xptdk=242728a0-cd84-4747-9651-84baf13c12bc',\n",
       " 'https://shopee.ph/Serpentina-Helps-prevent-diabetes-Maintains-low-blood-pressure-100-capsules-500mg-i.137314506.18946665515?sp_atk=179da7f9-0ec1-40b0-85d4-96fb534a5881&xptdk=179da7f9-0ec1-40b0-85d4-96fb534a5881',\n",
       " 'https://shopee.ph/Lactacyd-Baby-Gentle-Care-250ML-(Bundle-of-3)-Baby-Wash-i.313406373.15964185363?sp_atk=25b86538-f443-4b6e-96f1-f9593bedbed5&xptdk=25b86538-f443-4b6e-96f1-f9593bedbed5',\n",
       " 'https://shopee.ph/Banila-Co-Clean-It-Zero-Cleaning-Balm-(100ml-180ml)-i.264596848.8606841984?sp_atk=f9e11326-8411-490e-8e09-eeae59d6e0b5&xptdk=f9e11326-8411-490e-8e09-eeae59d6e0b5',\n",
       " 'https://shopee.ph/BEAUTY-ART-20PCS-BOX-YANJIAYI-Collagen-Firming-Sleeping-Mask-No-Cleaning-Hydrating-Moisturizing-i.618141453.14319473968?sp_atk=f511ff99-fef9-4fcf-9834-9b9d7477c27a&xptdk=f511ff99-fef9-4fcf-9834-9b9d7477c27a',\n",
       " 'https://shopee.ph/Casta-41-Pcs-Set-Professional-Drawing-Kit-Pencils-Sketch-Charcoal-Pencil-Painting-Tool-Art-Supplies-i.722605340.16446336326?sp_atk=5054942d-f350-49cf-a0ec-8f31de6acb2b&xptdk=5054942d-f350-49cf-a0ec-8f31de6acb2b',\n",
       " 'https://shopee.ph/%E3%80%90lftfur.ph%E3%80%91BIG-SALE-38x35cm-3D-Wallpaper-Brick-3D-Wall-Sticker-Foam-Self-Adhesive-Wall-panel-For-Wall-Decor-i.668078404.20038456005?sp_atk=d8083467-37bb-4451-b534-0da453d86924&xptdk=d8083467-37bb-4451-b534-0da453d86924',\n",
       " 'https://shopee.ph/ladder-foldabl-aluminum-3-4-5-6-steps-optional-Household-Indoor-thicker-and-reinforced-i.524194743.20610731864?sp_atk=74cdd1e9-bda4-4cec-9d5c-4571e83a4a13&xptdk=74cdd1e9-bda4-4cec-9d5c-4571e83a4a13',\n",
       " 'https://shopee.ph/Yunos-Adjustable-Back-Support-Posture-Corrector-for-Men-Spine-Steel-Plate-Humpback-Orthosis-i.324401722.3667088040?sp_atk=84801213-1789-4eff-934a-0a0a451ea339&xptdk=84801213-1789-4eff-934a-0a0a451ea339',\n",
       " 'https://shopee.ph/Noah-Deep-Zero-2-Salicylic-Exfoliant-With-Centella-Asiatica-50ml-i.386042876.11769802956?sp_atk=ea24a298-3233-440d-905c-a502b85dcea1&xptdk=ea24a298-3233-440d-905c-a502b85dcea1',\n",
       " 'https://shopee.ph/6-IN-1-MINI-CORRECTION-TAPE-School-Supplies-i.21544843.3437977610?sp_atk=e6545d03-3cf1-4cce-a999-1aed1943b57e&xptdk=e6545d03-3cf1-4cce-a999-1aed1943b57e',\n",
       " 'https://shopee.ph/Packaging-Tape-200-Meters-x-2-inches-Clear-Scotch-Tape-For-Sealing-Carton-Or-Packaging-Use-i.802799925.18468746709?sp_atk=6c443095-14f6-4419-8012-94ceeba2c31a&xptdk=6c443095-14f6-4419-8012-94ceeba2c31a',\n",
       " 'https://shopee.ph/Sweet-Golden-Beans-230g.-Kutkutin-Atbp.-i.20093982.4617942651?sp_atk=123a3160-ac8b-48c9-87c4-f76ff4a0b242&xptdk=123a3160-ac8b-48c9-87c4-f76ff4a0b242',\n",
       " 'https://shopee.ph/Luccica-Automatic-Hair-Curler-With-Negative-Lon-Ceramic-Hair-Curling-Three-Temperature-i.772889766.16568362877?sp_atk=cc31b519-550c-420d-9d37-a04888f59b52&xptdk=cc31b519-550c-420d-9d37-a04888f59b52',\n",
       " 'https://shopee.ph/OXECURE-Acne-Clear-Powder-Mud-5g-i.255268691.5838090559?sp_atk=86c7ea63-ad0f-43ea-b624-77d231ac46be&xptdk=86c7ea63-ad0f-43ea-b624-77d231ac46be',\n",
       " 'https://shopee.ph/%E3%80%90Complete-384-pages%E3%80%91Original-It-Ends-with-Us-It-Starts-With-Us-Books-by-Colleen-Hoover-English-Novel-i.407554514.10670275973?sp_atk=ae205c42-f1c2-4a25-9d88-5d68a738e3bd&xptdk=ae205c42-f1c2-4a25-9d88-5d68a738e3bd',\n",
       " 'https://shopee.ph/Mr.Green-Nail-Cuticle-Nipper-Manicure-Scissors-Stainless-Steel-Tweezer-Clipper-Dead-Skin-Remover-Scissor-Pusher-Tool-Trimmer-i.393028923.7686166339?sp_atk=f08d6453-562c-4ae4-b454-aeab3f7a0d2b&xptdk=f08d6453-562c-4ae4-b454-aeab3f7a0d2b',\n",
       " 'https://shopee.ph/ChooseYourOwnBundle-1st-set-i.456082746.10040123448?sp_atk=957d7df3-52e3-4afa-a5d5-1bdce456eab5&xptdk=957d7df3-52e3-4afa-a5d5-1bdce456eab5',\n",
       " 'https://shopee.ph/RAINBOWCO-Challenge-Korean-Baseball-Cap-For-Men-And-Women-Unisex-Cotton-Adjustable-i.27731952.10352477469?sp_atk=41520ba0-fb35-4db6-aef2-1065864b790c&xptdk=41520ba0-fb35-4db6-aef2-1065864b790c',\n",
       " 'https://shopee.ph/Hair-Clips-For-Women-Girls-Square-Hairpins-Fashion-Hair-Accessories-i.140216258.6658442666?sp_atk=961cd9ad-ee94-406c-956a-f487aa3c6cc1&xptdk=961cd9ad-ee94-406c-956a-f487aa3c6cc1',\n",
       " 'https://shopee.ph/MFSunnies-Trending-Sunnies-Eyewear-Fashion-Sunglasses-88107-88108-88109-91114-i.18188063.17070420056?sp_atk=ea2f60a9-26b0-4c05-b1ec-889a36a9e0fb&xptdk=ea2f60a9-26b0-4c05-b1ec-889a36a9e0fb',\n",
       " 'https://shopee.ph/Fit-20KG-Pet-Trolley-Outdoor-Foldable-Pet-Stroller-Pet-Carrier-Strong-Structure-Dog-And-Cat-Stroller-i.710592478.16023844836?sp_atk=f97e6c6e-c4e2-4f7b-ac1a-a777b5629983&xptdk=f97e6c6e-c4e2-4f7b-ac1a-a777b5629983',\n",
       " 'https://shopee.ph/Guess-Who-Is-It-Classic-BoardGame-Funny-Family-Guessing-Games-Kids-Children-Toy-Gift-%E7%8C%9C%E4%BA%BA%E7%89%A9%E7%9B%8A%E6%99%BA%E9%80%BB%E8%BE%91%E6%8E%A8%E7%90%86%E6%A1%8C%E6%B8%B8-i.322786749.21611354285?sp_atk=45902a9e-f353-4810-8b83-9ac75ba71241&xptdk=45902a9e-f353-4810-8b83-9ac75ba71241',\n",
       " 'https://shopee.ph/PXN-V3II-Racing-Wheel-180-Degree-Universal-USB-Car-Sim-Race-Steering-Wheel-with-Pedals-for-Gamers-i.15328948.7177179837?sp_atk=fe536561-e047-4e40-92d8-c9926b0b74f8&xptdk=fe536561-e047-4e40-92d8-c9926b0b74f8',\n",
       " 'https://shopee.ph/Knife-Set-6-PCS-Pastel-Colors-Stainless-Steel-Chef-Knife-Bread-Knife-Cleaver-Scissors-i.26143865.15040018305?sp_atk=2f1e9c6f-a23c-4605-a194-4688822f1796&xptdk=2f1e9c6f-a23c-4605-a194-4688822f1796',\n",
       " 'https://shopee.ph/SHEBA-Cat-Food-%E2%80%93-Chicken-Flavor-Wet-Cat-Food-70g.-i.92400595.7684042725?sp_atk=1e38841d-da33-471b-b8a4-288112e0a58e&xptdk=1e38841d-da33-471b-b8a4-288112e0a58e',\n",
       " 'https://shopee.ph/Solitaire-Radio-Silence-I-was-Born-For-This-Loveless-This-Winter-Nick-Charlie-by-Alice-Oseman-i.594186014.19000032067?sp_atk=06f1730d-cf73-4dea-a360-1de813e3332c&xptdk=06f1730d-cf73-4dea-a360-1de813e3332c',\n",
       " 'https://shopee.ph/%E3%80%90Ready-Stock%E3%80%91The-7-Habits-7-Humans-Very-Effective-Habits-7-Stephen-R-Covey-Paper-Bookpaper-i.407554514.10945340432?sp_atk=699c2242-fe20-4c49-bfc6-d32ca19f1ced&xptdk=699c2242-fe20-4c49-bfc6-d32ca19f1ced',\n",
       " 'https://shopee.ph/Cocktail-Shaker-Stainless-Steel-Mixer-Bartender-Tools-Bar-Set-With-Wine-Stand-750ML-Ready-Stock-COD-i.302806085.7061502273?sp_atk=0308a5a4-1367-428e-a49d-e2da3d989a17&xptdk=0308a5a4-1367-428e-a49d-e2da3d989a17',\n",
       " \"https://shopee.ph/Lucky-T298-Graphic-Print-Men's-T-shirt-Printed-T-Shirt-For-Men-i.62404318.8063489409?sp_atk=5ada4a6c-a3a0-4b9f-bb03-e714b0b47937&xptdk=5ada4a6c-a3a0-4b9f-bb03-e714b0b47937\",\n",
       " 'https://shopee.ph/4Pcs-Non-Stick-Cookware-Set-Wok-milk-Pot-frying-Pan-Maifan-Stone-Coating-with-cover-For-All-Stove-i.457224234.12205762990?sp_atk=14c38eed-e70e-4b01-a554-45fd85a99212&xptdk=14c38eed-e70e-4b01-a554-45fd85a99212',\n",
       " 'https://shopee.ph/%E3%80%90Ready-Stock%E3%80%91The-7-Habits-7-Humans-Very-Effective-Habits-7-Stephen-R-Covey-Paper-Bookpaper-i.407554514.10945340432?sp_atk=d2d4a543-e560-42da-81a2-20cc68f0c7db&xptdk=d2d4a543-e560-42da-81a2-20cc68f0c7db',\n",
       " 'https://shopee.ph/Y.o.u-AcnePlus-Triple-Action-Spot-Care-15gr-YOU-i.360927417.13453839702?sp_atk=14824de6-64a3-4506-81f4-765217781d58&xptdk=14824de6-64a3-4506-81f4-765217781d58',\n",
       " 'https://shopee.ph/TBOX-Carton-mailer-box-corrugated-packaging-Kraft-Lowest-price-Brown-Kraft-Mailer-Corrugated-Box-i.49844600.3943470207?sp_atk=c434f482-58c9-4137-9de7-7729b28b08e7&xptdk=c434f482-58c9-4137-9de7-7729b28b08e7',\n",
       " 'https://shopee.ph/Tala-by-Kyla-TBK-2gether-The-Series-Inspired-Collection-Soul-Mate-i.631345757.17206829344?sp_atk=8ef6a457-3de5-439a-98c3-80b1e41038c7&xptdk=8ef6a457-3de5-439a-98c3-80b1e41038c7',\n",
       " 'https://shopee.ph/TShirt-for-Men-Women-Inspired-Cotton-Trendy-Loose-Clothing-Oversize-Tee-Shirts-Short-Sleeve-Swag-Top-i.848481145.19545586051?sp_atk=28d44fa7-4291-41a7-823c-acb95605b658&xptdk=28d44fa7-4291-41a7-823c-acb95605b658']"
      ]
     },
     "execution_count": 2,
     "metadata": {},
     "output_type": "execute_result"
    }
   ],
   "source": [
    "url_list = []\n",
    "with open(\"url.txt\", \"r\") as f:\n",
    "    url_list = f.read().splitlines()\n",
    "\n",
    "url_list"
   ]
  },
  {
   "cell_type": "code",
   "execution_count": 3,
   "metadata": {},
   "outputs": [
    {
     "name": "stdout",
     "output_type": "stream",
     "text": [
      "Directory already exists\n"
     ]
    }
   ],
   "source": [
    "shopee_data_dir = \"data/shopee\"\n",
    "if os.path.isdir(shopee_data_dir):\n",
    "    print(\"Directory already exists\")\n",
    "else:\n",
    "    os.makedirs(shopee_data_dir)"
   ]
  },
  {
   "cell_type": "code",
   "execution_count": 4,
   "metadata": {},
   "outputs": [],
   "source": [
    "if len(os.listdir(shopee_data_dir)) == len(url_list):\n",
    "    print(\"All files are already downloaded.\")\n",
    "else:\n",
    "    from scraper import ShopeeAPI\n",
    "    api = ShopeeAPI(url_list,shopee_data_dir)\n",
    "    api.scrape()"
   ]
  },
  {
   "cell_type": "markdown",
   "metadata": {},
   "source": [
    "### Loading Data"
   ]
  },
  {
   "cell_type": "code",
   "execution_count": 5,
   "metadata": {},
   "outputs": [
    {
     "data": {
      "text/plain": [
       "['shopee']"
      ]
     },
     "execution_count": 5,
     "metadata": {},
     "output_type": "execute_result"
    }
   ],
   "source": [
    "dataset = os.listdir(\"data/\")\n",
    "dataset"
   ]
  },
  {
   "cell_type": "code",
   "execution_count": 6,
   "metadata": {},
   "outputs": [
    {
     "ename": "OSError",
     "evalue": "An error occurred while calling the read_csv method registered to the pandas backend.\nOriginal Message: data/*.csv resolved to no files",
     "output_type": "error",
     "traceback": [
      "\u001b[1;31m---------------------------------------------------------------------------\u001b[0m",
      "\u001b[1;31mOSError\u001b[0m                                   Traceback (most recent call last)",
      "File \u001b[1;32mc:\\Users\\Neilc\\dev\\proj\\data-shopee-crawler\\venv\\lib\\site-packages\\dask\\backends.py:135\u001b[0m, in \u001b[0;36mCreationDispatch.register_inplace.<locals>.decorator.<locals>.wrapper\u001b[1;34m(*args, **kwargs)\u001b[0m\n\u001b[0;32m    134\u001b[0m \u001b[39mtry\u001b[39;00m:\n\u001b[1;32m--> 135\u001b[0m     \u001b[39mreturn\u001b[39;00m func(\u001b[39m*\u001b[39margs, \u001b[39m*\u001b[39m\u001b[39m*\u001b[39mkwargs)\n\u001b[0;32m    136\u001b[0m \u001b[39mexcept\u001b[39;00m \u001b[39mException\u001b[39;00m \u001b[39mas\u001b[39;00m e:\n",
      "File \u001b[1;32mc:\\Users\\Neilc\\dev\\proj\\data-shopee-crawler\\venv\\lib\\site-packages\\dask\\dataframe\\io\\csv.py:755\u001b[0m, in \u001b[0;36mmake_reader.<locals>.read\u001b[1;34m(urlpath, blocksize, lineterminator, compression, sample, sample_rows, enforce, assume_missing, storage_options, include_path_column, **kwargs)\u001b[0m\n\u001b[0;32m    742\u001b[0m \u001b[39mdef\u001b[39;00m \u001b[39mread\u001b[39m(\n\u001b[0;32m    743\u001b[0m     urlpath,\n\u001b[0;32m    744\u001b[0m     blocksize\u001b[39m=\u001b[39m\u001b[39m\"\u001b[39m\u001b[39mdefault\u001b[39m\u001b[39m\"\u001b[39m,\n\u001b[1;32m   (...)\u001b[0m\n\u001b[0;32m    753\u001b[0m     \u001b[39m*\u001b[39m\u001b[39m*\u001b[39mkwargs,\n\u001b[0;32m    754\u001b[0m ):\n\u001b[1;32m--> 755\u001b[0m     \u001b[39mreturn\u001b[39;00m read_pandas(\n\u001b[0;32m    756\u001b[0m         reader,\n\u001b[0;32m    757\u001b[0m         urlpath,\n\u001b[0;32m    758\u001b[0m         blocksize\u001b[39m=\u001b[39mblocksize,\n\u001b[0;32m    759\u001b[0m         lineterminator\u001b[39m=\u001b[39mlineterminator,\n\u001b[0;32m    760\u001b[0m         compression\u001b[39m=\u001b[39mcompression,\n\u001b[0;32m    761\u001b[0m         sample\u001b[39m=\u001b[39msample,\n\u001b[0;32m    762\u001b[0m         sample_rows\u001b[39m=\u001b[39msample_rows,\n\u001b[0;32m    763\u001b[0m         enforce\u001b[39m=\u001b[39menforce,\n\u001b[0;32m    764\u001b[0m         assume_missing\u001b[39m=\u001b[39massume_missing,\n\u001b[0;32m    765\u001b[0m         storage_options\u001b[39m=\u001b[39mstorage_options,\n\u001b[0;32m    766\u001b[0m         include_path_column\u001b[39m=\u001b[39minclude_path_column,\n\u001b[0;32m    767\u001b[0m         \u001b[39m*\u001b[39m\u001b[39m*\u001b[39mkwargs,\n\u001b[0;32m    768\u001b[0m     )\n",
      "File \u001b[1;32mc:\\Users\\Neilc\\dev\\proj\\data-shopee-crawler\\venv\\lib\\site-packages\\dask\\dataframe\\io\\csv.py:531\u001b[0m, in \u001b[0;36mread_pandas\u001b[1;34m(reader, urlpath, blocksize, lineterminator, compression, sample, sample_rows, enforce, assume_missing, storage_options, include_path_column, **kwargs)\u001b[0m\n\u001b[0;32m    530\u001b[0m \u001b[39mif\u001b[39;00m \u001b[39mlen\u001b[39m(paths) \u001b[39m==\u001b[39m \u001b[39m0\u001b[39m:\n\u001b[1;32m--> 531\u001b[0m     \u001b[39mraise\u001b[39;00m \u001b[39mOSError\u001b[39;00m(\u001b[39mf\u001b[39m\u001b[39m\"\u001b[39m\u001b[39m{\u001b[39;00murlpath\u001b[39m}\u001b[39;00m\u001b[39m resolved to no files\u001b[39m\u001b[39m\"\u001b[39m)\n\u001b[0;32m    533\u001b[0m \u001b[39m# Infer compression from first path\u001b[39;00m\n",
      "\u001b[1;31mOSError\u001b[0m: data/*.csv resolved to no files",
      "\nThe above exception was the direct cause of the following exception:\n",
      "\u001b[1;31mOSError\u001b[0m                                   Traceback (most recent call last)",
      "Cell \u001b[1;32mIn[6], line 7\u001b[0m\n\u001b[0;32m      1\u001b[0m dtypes \u001b[39m=\u001b[39m {\u001b[39m\"\u001b[39m\u001b[39muserid\u001b[39m\u001b[39m\"\u001b[39m: \u001b[39m\"\u001b[39m\u001b[39mint\u001b[39m\u001b[39m\"\u001b[39m, \u001b[39m\"\u001b[39m\u001b[39musername\u001b[39m\u001b[39m\"\u001b[39m: \u001b[39m\"\u001b[39m\u001b[39mstr\u001b[39m\u001b[39m\"\u001b[39m, \u001b[39m\"\u001b[39m\u001b[39mitem\u001b[39m\u001b[39m\"\u001b[39m: \u001b[39m\"\u001b[39m\u001b[39mstr\u001b[39m\u001b[39m\"\u001b[39m, \u001b[39m\"\u001b[39m\u001b[39mitem_type\u001b[39m\u001b[39m\"\u001b[39m: \u001b[39m\"\u001b[39m\u001b[39mint\u001b[39m\u001b[39m\"\u001b[39m,\u001b[39m\"\u001b[39m\u001b[39mcomment\u001b[39m\u001b[39m\"\u001b[39m: \u001b[39m\"\u001b[39m\u001b[39mstr\u001b[39m\u001b[39m\"\u001b[39m,\n\u001b[0;32m      2\u001b[0m           \u001b[39m\"\u001b[39m\u001b[39mrating\u001b[39m\u001b[39m\"\u001b[39m: \u001b[39m\"\u001b[39m\u001b[39mint\u001b[39m\u001b[39m\"\u001b[39m, \u001b[39m\"\u001b[39m\u001b[39mproduct_quality\u001b[39m\u001b[39m\"\u001b[39m: \u001b[39m\"\u001b[39m\u001b[39mobject\u001b[39m\u001b[39m\"\u001b[39m, \u001b[39m\"\u001b[39m\u001b[39mseller_service\u001b[39m\u001b[39m\"\u001b[39m: \u001b[39m\"\u001b[39m\u001b[39mobject\u001b[39m\u001b[39m\"\u001b[39m,\n\u001b[0;32m      3\u001b[0m           \u001b[39m\"\u001b[39m\u001b[39mdelivery_service\u001b[39m\u001b[39m\"\u001b[39m: \u001b[39m\"\u001b[39m\u001b[39mobject\u001b[39m\u001b[39m\"\u001b[39m, \u001b[39m\"\u001b[39m\u001b[39mhas_template_tag\u001b[39m\u001b[39m\"\u001b[39m: \u001b[39m\"\u001b[39m\u001b[39mbool\u001b[39m\u001b[39m\"\u001b[39m, \u001b[39m\"\u001b[39m\u001b[39mtemplate_tags\u001b[39m\u001b[39m\"\u001b[39m: \u001b[39m\"\u001b[39m\u001b[39mobject\u001b[39m\u001b[39m\"\u001b[39m,\n\u001b[0;32m      4\u001b[0m           \u001b[39m\"\u001b[39m\u001b[39mtags\u001b[39m\u001b[39m\"\u001b[39m: \u001b[39m\"\u001b[39m\u001b[39mobject\u001b[39m\u001b[39m\"\u001b[39m, \u001b[39m\"\u001b[39m\u001b[39mis_oversea\u001b[39m\u001b[39m\"\u001b[39m: \u001b[39m\"\u001b[39m\u001b[39mbool\u001b[39m\u001b[39m\"\u001b[39m, \u001b[39m\"\u001b[39m\u001b[39morigin_region\u001b[39m\u001b[39m\"\u001b[39m: \u001b[39m\"\u001b[39m\u001b[39mstr\u001b[39m\u001b[39m\"\u001b[39m, \u001b[39m\"\u001b[39m\u001b[39mlike_count\u001b[39m\u001b[39m\"\u001b[39m: \u001b[39m\"\u001b[39m\u001b[39mobject\u001b[39m\u001b[39m\"\u001b[39m,\n\u001b[0;32m      5\u001b[0m           \u001b[39m\"\u001b[39m\u001b[39mis_repeated_purchase\u001b[39m\u001b[39m\"\u001b[39m: \u001b[39m\"\u001b[39m\u001b[39mbool\u001b[39m\u001b[39m\"\u001b[39m, \u001b[39m\"\u001b[39m\u001b[39mexclude_scoring_due_low_logistic\u001b[39m\u001b[39m\"\u001b[39m: \u001b[39m\"\u001b[39m\u001b[39mbool\u001b[39m\u001b[39m\"\u001b[39m}\n\u001b[1;32m----> 7\u001b[0m consumer_dd \u001b[39m=\u001b[39m dd\u001b[39m.\u001b[39;49mread_csv(\n\u001b[0;32m      8\u001b[0m     \u001b[39m'\u001b[39;49m\u001b[39mdata/*.csv\u001b[39;49m\u001b[39m'\u001b[39;49m,\n\u001b[0;32m      9\u001b[0m     blocksize\u001b[39m=\u001b[39;49m\u001b[39m'\u001b[39;49m\u001b[39m25MB\u001b[39;49m\u001b[39m'\u001b[39;49m,\n\u001b[0;32m     10\u001b[0m     dtype\u001b[39m=\u001b[39;49mdtypes,\n\u001b[0;32m     11\u001b[0m )\n",
      "File \u001b[1;32mc:\\Users\\Neilc\\dev\\proj\\data-shopee-crawler\\venv\\lib\\site-packages\\dask\\backends.py:137\u001b[0m, in \u001b[0;36mCreationDispatch.register_inplace.<locals>.decorator.<locals>.wrapper\u001b[1;34m(*args, **kwargs)\u001b[0m\n\u001b[0;32m    135\u001b[0m     \u001b[39mreturn\u001b[39;00m func(\u001b[39m*\u001b[39margs, \u001b[39m*\u001b[39m\u001b[39m*\u001b[39mkwargs)\n\u001b[0;32m    136\u001b[0m \u001b[39mexcept\u001b[39;00m \u001b[39mException\u001b[39;00m \u001b[39mas\u001b[39;00m e:\n\u001b[1;32m--> 137\u001b[0m     \u001b[39mraise\u001b[39;00m \u001b[39mtype\u001b[39m(e)(\n\u001b[0;32m    138\u001b[0m         \u001b[39mf\u001b[39m\u001b[39m\"\u001b[39m\u001b[39mAn error occurred while calling the \u001b[39m\u001b[39m{\u001b[39;00mfuncname(func)\u001b[39m}\u001b[39;00m\u001b[39m \u001b[39m\u001b[39m\"\u001b[39m\n\u001b[0;32m    139\u001b[0m         \u001b[39mf\u001b[39m\u001b[39m\"\u001b[39m\u001b[39mmethod registered to the \u001b[39m\u001b[39m{\u001b[39;00m\u001b[39mself\u001b[39m\u001b[39m.\u001b[39mbackend\u001b[39m}\u001b[39;00m\u001b[39m backend.\u001b[39m\u001b[39m\\n\u001b[39;00m\u001b[39m\"\u001b[39m\n\u001b[0;32m    140\u001b[0m         \u001b[39mf\u001b[39m\u001b[39m\"\u001b[39m\u001b[39mOriginal Message: \u001b[39m\u001b[39m{\u001b[39;00me\u001b[39m}\u001b[39;00m\u001b[39m\"\u001b[39m\n\u001b[0;32m    141\u001b[0m     ) \u001b[39mfrom\u001b[39;00m \u001b[39me\u001b[39;00m\n",
      "\u001b[1;31mOSError\u001b[0m: An error occurred while calling the read_csv method registered to the pandas backend.\nOriginal Message: data/*.csv resolved to no files"
     ]
    }
   ],
   "source": [
    "dtypes = {\"userid\": \"int\", \"username\": \"str\", \"item\": \"str\", \"item_type\": \"int\",\"comment\": \"str\",\n",
    "          \"rating\": \"int\", \"product_quality\": \"object\", \"seller_service\": \"object\",\n",
    "          \"delivery_service\": \"object\", \"has_template_tag\": \"bool\", \"template_tags\": \"object\",\n",
    "          \"tags\": \"object\", \"is_oversea\": \"bool\", \"origin_region\": \"str\", \"like_count\": \"object\",\n",
    "          \"is_repeated_purchase\": \"bool\", \"exclude_scoring_due_low_logistic\": \"bool\"}\n",
    "\n",
    "consumer_dd = dd.read_csv(\n",
    "    'data/*.csv',\n",
    "    blocksize='25MB',\n",
    "    dtype=dtypes,\n",
    ")"
   ]
  },
  {
   "cell_type": "code",
   "execution_count": null,
   "metadata": {},
   "outputs": [],
   "source": [
    "df = consumer_dd.compute()"
   ]
  },
  {
   "cell_type": "code",
   "execution_count": null,
   "metadata": {},
   "outputs": [],
   "source": [
    "df['ctime'] = pd.to_datetime(df['ctime'], unit='s')\n",
    "df.info()"
   ]
  },
  {
   "cell_type": "markdown",
   "metadata": {},
   "source": [
    "Column Descriptions \n",
    " 0.   userid - customer id\n",
    " 1.   username - customer username\n",
    " 2.   item - item name\n",
    " 3.   ctime - time of review created\n",
    " 4.   comment - customer review\n",
    " 5.   rating - customer rating\n",
    " 6.   detailed rating - product_quality, seller_service, delivery_service\n",
    " 7.   has_template_tag - to identify if the comment has template tags (e.g. [appearance] [colour] [material] [quality])\n",
    " 8.   template_tags - template tags in the comment\n",
    " 9.   tags - default tags that can be used (similar with grab) e.g., [excellent] [will buy again]\n",
    " 10.  is_oversea - to identify if the item is oversea\n",
    " 11.  origin_region - origin region of the item (country code)\n",
    " 12.  like_count - like count of the review\n",
    " 13.  is_repeated_purchase - to identify if the customer has purchased the item before\n",
    " 14.  exclude_scoring_due_low_logistic - to identify if the review is excluded from overall scoring due to low logistic"
   ]
  },
  {
   "cell_type": "code",
   "execution_count": null,
   "metadata": {},
   "outputs": [],
   "source": [
    "df.head(2)"
   ]
  },
  {
   "cell_type": "markdown",
   "metadata": {},
   "source": [
    "### Exploratory Data Analysis"
   ]
  },
  {
   "cell_type": "code",
   "execution_count": null,
   "metadata": {},
   "outputs": [],
   "source": [
    "from dataprep.eda import *\n",
    "report = create_report(df)\n",
    "report.show_browser()"
   ]
  },
  {
   "cell_type": "markdown",
   "metadata": {},
   "source": [
    "## Sentiments Dataframe"
   ]
  },
  {
   "cell_type": "code",
   "execution_count": null,
   "metadata": {},
   "outputs": [],
   "source": [
    "sentiments_df = df[df['has_template_tag']==False].reset_index(drop=True)\n",
    "sentiments_df = sentiments_df[['item','ctime','comment', 'rating', 'product_quality', 'seller_service', 'delivery_service']]\n",
    "sentiments_df.sort_values(by=\"rating\")"
   ]
  }
 ],
 "metadata": {
  "kernelspec": {
   "display_name": "venv",
   "language": "python",
   "name": "python3"
  },
  "language_info": {
   "codemirror_mode": {
    "name": "ipython",
    "version": 3
   },
   "file_extension": ".py",
   "mimetype": "text/x-python",
   "name": "python",
   "nbconvert_exporter": "python",
   "pygments_lexer": "ipython3",
   "version": "3.9.13"
  },
  "orig_nbformat": 4,
  "vscode": {
   "interpreter": {
    "hash": "fc03aa72c5eefcfc04d9c64b13a4966759c6b3cf16ab4dc72295283cb222c9e0"
   }
  }
 },
 "nbformat": 4,
 "nbformat_minor": 2
}
